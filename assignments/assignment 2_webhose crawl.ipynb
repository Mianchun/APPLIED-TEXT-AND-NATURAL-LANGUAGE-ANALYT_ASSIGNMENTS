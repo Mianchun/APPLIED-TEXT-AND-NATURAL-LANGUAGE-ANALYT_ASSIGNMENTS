{
 "cells": [
  {
   "cell_type": "code",
   "execution_count": null,
   "metadata": {},
   "outputs": [],
   "source": [
    "# Working with Webhose.io API service\n",
    "import webhoseio\n",
    "\n",
    "webhoseio.config(token=\"bfe246ee-b1fe-4a3e-8413-e2ae21c8b45b\")\n",
    "query_params = {\n",
    "    \"q\": \"organization:google\",\n",
    "    \"sort\": \"crawled\"\n",
    "}"
   ]
  },
  {
   "cell_type": "code",
   "execution_count": null,
   "metadata": {},
   "outputs": [],
   "source": [
    "# Query Webhose for a set of 100 posts/feeds\n",
    "output = webhoseio.query(\"filterWebContent\", query_params)\n",
    "print(output['posts'][0]['text'])  # Print the text of the first post\n",
    "print(output['posts'][0]['published'])  # Print the text of the first post publication date\n",
    "print output['posts'][0]['thread']['site']   # Print the site of the first post\n",
    "\n"
   ]
  },
  {
   "cell_type": "code",
   "execution_count": null,
   "metadata": {},
   "outputs": [],
   "source": [
    "# Your output should show number of articles, titles and publish dates of the first 100 articles.\n",
    "feeds = []\n",
    "for item in output['posts']:\n",
    "    feeds.append(item)\n",
    "    print(item['title'], item['published'])\n",
    "\n",
    "print(len(feeds))"
   ]
  },
  {
   "cell_type": "code",
   "execution_count": null,
   "metadata": {},
   "outputs": [],
   "source": [
    "# Crawl additional batches of articles\n",
    "count = 2\n",
    "while count > 0:\n",
    "    output = webhoseio.get_next()\n",
    "    for item in output['posts']:\n",
    "        feeds.append(item)\n",
    "    count -= 1\n",
    "\n",
    "print(len(feeds)) # 300"
   ]
  },
  {
   "cell_type": "code",
   "execution_count": null,
   "metadata": {},
   "outputs": [],
   "source": [
    "# Store data in JSON format, make sure that the file is readable again back into your program\n",
    "import json\n",
    "with open(\"google_webcrawl.json\", \"w\") as myfile:\n",
    "    for feed in feeds:\n",
    "        line = json.dumps(feed)\n",
    "        myfile.write(line)\n",
    "        myfile.write(\"\\n\")\n",
    "        \n",
    "json_data=open(\"google_webcrawl.json\").readlines()\n",
    "feeds_read_from_file = []\n",
    "for line in json_data:\n",
    "    feeds_read_from_file.append(json.loads(line))\n",
    "print(len(feeds_read_from_file))  # 300\n",
    "\n",
    "for feed in feeds_read_from_file[:100]:\n",
    "    print(feed['title'], feed['published'])"
   ]
  },
  {
   "cell_type": "code",
   "execution_count": null,
   "metadata": {},
   "outputs": [],
   "source": []
  },
  {
   "cell_type": "code",
   "execution_count": 1,
   "metadata": {},
   "outputs": [],
   "source": [
    "json_data=open(\"D:/personal/columbia university/NLP/assignment project/google_webcrawl.json\").readlines()"
   ]
  },
  {
   "cell_type": "code",
   "execution_count": 3,
   "metadata": {},
   "outputs": [
    {
     "name": "stdout",
     "output_type": "stream",
     "text": [
      "300\n"
     ]
    }
   ],
   "source": [
    "import json\n",
    "feeds_read_from_file = []\n",
    "for line in json_data:\n",
    "    feeds_read_from_file.append(json.loads(line))\n",
    "print(len(feeds_read_from_file))  # 300"
   ]
  },
  {
   "cell_type": "code",
   "execution_count": 4,
   "metadata": {
    "scrolled": true
   },
   "outputs": [
    {
     "name": "stdout",
     "output_type": "stream",
     "text": [
      "Optimize for conversion value with eCPC in Google Ads 2019-09-11T17:39:00.000+03:00\n",
      "JBL Everest Elite 750NC Bluetooth Headphones for $69.99 Shipped 2019-09-11T19:26:00.000+03:00\n",
      "Aukey 56W USB-C and 46W USB Charger for $22.79 2019-09-11T18:25:00.000+03:00\n",
      "Google Alert - share 2019-09-12T03:22:00.000+03:00\n",
      "Demitrious @ Red Hill School: Maori language week. 2019-09-12T03:00:00.000+03:00\n",
      "How Google's Nofollow, Sponsored, & UGC Links Impact SEO 2019-09-11T04:23:00.000+03:00\n",
      "SMX Overtime: Your questions answered about Google penalties and their impact on websites 2019-09-10T23:39:00.000+03:00\n",
      "Content accuracy is not a ranking factor 2019-09-10T21:39:00.000+03:00\n",
      "Failed to send request to error in ANT 2019-09-12T02:55:00.000+03:00\n",
      "The Most Popular 2019 Halloween Costumes According To Pinterest 2019-09-12T03:00:00.000+03:00\n",
      "Hathi Trust: Finding and Using Digital Resources 2019-09-12T02:00:00.000+03:00\n",
      "New MapleStory M’s Latest Update Brings in a New Explorer 2019-09-10T20:51:00.000+03:00\n",
      "Google to treat nofollow link attribute as a ‘hint’ 2019-09-10T19:39:00.000+03:00\n",
      "Sep 11, Workforce Group SEO Specialist Jobs in Nigeria 2019-09-11T14:49:00.000+03:00\n",
      "Geología General • CGTech VERICUT v8.2.1 2019-09-12T02:55:00.000+03:00\n",
      "Do from daily to on demande admin task 2019-09-12T03:15:00.000+03:00\n",
      "All 50 states’ attorneys general join in antitrust investigation of Google 2019-09-10T03:39:00.000+03:00\n",
      "Save $279 on Google’s premium Chromebook, the Pixelbook, at Walmart 2019-09-12T03:05:00.000+03:00\n",
      "Construct Equation 2019-09-12T03:23:00.000+03:00\n",
      "Advertising Executives Point to Five Ways Google Stifles Business – KatiaZev News 2019-09-11T03:00:00.000+03:00\n",
      "Algebraic Manipulations to solve for q 2019-09-12T03:12:00.000+03:00\n",
      "SEO and PPC: Better Together 2019-09-11T21:02:00.000+03:00\n",
      "Melaka - Blog and Magazine Ghost Theme | Themeforest Templates 2019-09-12T03:25:00.000+03:00\n",
      "The producers and stars of the TV drama Bones settle their lawsuits with 20th Century Fox's studio over the disbursement of profits (Eriq Gardner/Hollywood Reporter) 2019-09-12T02:50:00.000+03:00\n",
      "Interview with CNN's Daniel Dale, who says it's important to correct Trump falsehoods, intentional or unintentional, because he's consistently wrong on details (Emily Tamkin/Columbia Journalism Review) 2019-09-12T00:55:00.000+03:00\n",
      "Is there any full node supporting multiple crypto currencies like BTC, BCH, Litecoin? 2019-09-12T01:35:00.000+03:00\n",
      "Google Alert - debt 2019-09-12T03:27:00.000+03:00\n",
      "Google Alert - exchange 2019-09-12T02:27:00.000+03:00\n",
      "NEWS: I Prevail debut video for ‘Gasoline’! 2019-09-11T02:17:00.000+03:00\n",
      "NEWS: AFI announce ‘All Hallows E.P.’ 20th anniversary vinyl reissue! 2019-09-11T01:32:00.000+03:00\n",
      "NEWS: Microwave release video for new song, ‘Mirrors’! 2019-09-11T01:07:00.000+03:00\n",
      "Google Alert - the 2019-09-12T03:28:00.000+03:00\n",
      "Social media firms to testify before U.S. Senate panel on violent, extremist online content 2019-09-11T19:32:00.000+03:00\n",
      "Pixel 4 XL hands-on videos show off color options and camera samples 2019-09-12T01:44:00.000+03:00\n",
      "Marketing of America Columbus Now Offering White Label SEO Services In Columbus, OH 2019-09-11T03:00:00.000+03:00\n",
      "I swear to God… 2019-09-12T02:58:00.000+03:00\n",
      "Daily Search Forum Recap: September 11, 2019 2019-09-12T00:00:00.000+03:00\n",
      "Google advertising practices targeted in antitrust probe 2019-09-11T03:00:00.000+03:00\n",
      "Google Alert - Ebola 2019-09-12T03:32:00.000+03:00\n",
      "Η Κριστίν Καβαλάρι απέλυσε υπάλληλό της για το σούπερ σέξι ποστάρισμα της 11ης Σεπτεμβρίου 2019-09-12T03:09:00.000+03:00\n",
      "Google’s China Ties in AI Research Eyed 2019-09-11T03:00:00.000+03:00\n",
      "Google teases Play Pass release right before Apple confirms Apple Arcade launch 2019-09-11T15:13:00.000+03:00\n",
      "Finding the input of a Linear System that Minimizes a Matrix Induced Norm 2019-09-12T03:26:00.000+03:00\n",
      "Is there a Collatz 'branch' stopping time equation? 2019-09-12T03:25:00.000+03:00\n",
      "Cloud Gaming Market 2019 explosive growth with technical aspects by major players Sling Media, Playkey, Samsung Electronics, Happy Cloud, Ubitus, IBM, NVIDIA, Microsoft – Market Research Tribunal 2019-09-10T03:00:00.000+03:00\n",
      "How to Get Rid of Spam in Google Calendar 2019-09-12T03:25:00.000+03:00\n",
      "Amazon Fire TV Stick vs. Chromecast vs. Roku Streaming Stick 2019-09-12T00:25:00.000+03:00\n",
      "Google Nest Is Censorship & Surveillance In Your Home 2019-09-12T02:34:00.000+03:00\n",
      "A Field of Honor On The Pennsylvania Road 2019-09-12T02:20:00.000+03:00\n",
      "The first leaks of the Samsung Galaxy S11 are here 2019-09-12T03:33:00.000+03:00\n",
      "Firefox is testing a VPN, and you can try it right now 2019-09-12T03:04:00.000+03:00\n",
      "Google Home Update makes it easy to launch Smart Displays 2019-09-12T02:59:00.000+03:00\n",
      "Google Alert - Game of Thrones 2019-09-12T03:36:00.000+03:00\n",
      "Alexa Auto adds offline capabilities that work in tunnels and parking garages 2019-09-12T02:23:00.000+03:00\n",
      "Facebook defends its use of location data as Android 10, iOS 13 tighten the location access | Technology News, The Indian Express 2019-09-11T17:55:00.000+03:00\n",
      "Mad Town Gastropub flies high with prices to match 2019-09-06T07:00:00.000+03:00\n",
      "Google Alert - savings account 2019-09-12T03:37:00.000+03:00\n",
      "Google Alert - technology 2019-09-12T03:37:00.000+03:00\n",
      "Google Alert - latest news 2019-09-12T03:37:00.000+03:00\n",
      "And so there you are 2019-09-11T21:33:00.000+03:00\n",
      "Rumah BJ Habibie is trending today on Google. 2019-09-12T03:38:00.000+03:00\n",
      "Petara Cordero is trending today on Google. 2019-09-12T03:38:00.000+03:00\n",
      "Google Alert - The Louisiana Weekly 2019-09-12T03:40:00.000+03:00\n",
      "Are Separate Mobile Websites Bad? 2019-09-10T18:22:00.000+03:00\n",
      "SEO for auto parts website 2019-09-12T03:25:00.000+03:00\n",
      "DeMorgans Law Application 2019-09-12T03:34:00.000+03:00\n",
      "When asked to find a coterminal angle, can you combine radians and degrees? 2019-09-12T03:34:00.000+03:00\n",
      "How do I apply regression techniques to data I think fits a differential equation? 2019-09-12T03:31:00.000+03:00\n",
      "Childhood as “Resume Building”- Why Play Needs a Comeback 2019-09-12T03:08:00.000+03:00\n",
      "Explainer: Advertising execs point to five ways Google stifles business | News | WIBQ 2019-09-11T03:00:00.000+03:00\n",
      "Google Alert - Movie 2019-09-12T03:40:00.000+03:00\n",
      "Mochi Stacker 4.0 2019-09-12T03:28:00.000+03:00\n",
      "New Website Launch – ABA Technologies Launches Brand New Website 2019-09-11T03:00:00.000+03:00\n",
      "2019 WormWood SEO Reviews, Pricing & Popular Alternatives 2019-09-12T03:37:00.000+03:00\n",
      "Ramadan Live wallpaper 2.3.4 2019-09-12T03:19:00.000+03:00\n",
      "Cute Baby Wallpapers 2.3 2019-09-12T03:19:00.000+03:00\n",
      "Google advertising practices targeted in antitrust probe 2019-09-11T23:28:00.000+03:00\n",
      "Hospitality Team Spirit: The Value of Training Programs, Leadership, and Mentorship (Part 1) – Gaslamp, San Diego 2019-09-12T03:13:00.000+03:00\n",
      "Your Hump Day Reading List for September 11, 2019 2019-09-11T14:56:00.000+03:00\n",
      "darkersolstice: icecream-sandwich: For anybody wondering about how Automattic changed the Privacy... 2019-09-12T03:09:00.000+03:00\n",
      "Advertising Executives Point to Five Ways Google Stifles Business 2019-09-12T02:43:00.000+03:00\n",
      "Google Alert - Pentagon 2019-09-12T03:44:00.000+03:00\n",
      "Kumpulan Mengatasi Youtube An Error 2019-09-12T02:45:00.000+03:00\n",
      "U.S. warns of feral hogs approaching country from Canada 2019-09-12T02:00:00.000+03:00\n",
      "Google collects face data now. Here's what it means and how to opt out 2019-09-11T21:00:00.000+03:00\n",
      "Avisering från Google – tennis 2019-09-12T02:45:00.000+03:00\n",
      "Google Alert - latest economy 2019-09-12T03:45:00.000+03:00\n",
      "Noticias: Se filtran todas las especificaciones del Google Pixel 4 XL 2019-09-11T22:38:00.000+03:00\n",
      "The Jewels of Kinfairlie Sale 2019-09-11T20:55:00.000+03:00\n",
      "Google Alert - chase 2019-09-12T03:45:00.000+03:00\n",
      "The Uncertain Future of YouTube Influencer Collaborations Could be the Jolt Your Marketing Plans Need 2019-09-11T22:54:00.000+03:00\n",
      "Google Alert - kijiji 2019-09-12T02:47:00.000+03:00\n",
      "Advertising execs point to five ways Google stifles business 2019-09-12T03:20:00.000+03:00\n",
      "Google Alert - university 2019-09-12T03:49:00.000+03:00\n",
      "Google Alert - terapis 2019-09-12T03:49:00.000+03:00\n",
      "Google Alert - blog 2019-09-12T03:49:00.000+03:00\n",
      "Google Alert - justin bieber 2019-09-12T03:49:00.000+03:00\n",
      "U.S. Social Media Firms To Testify On Violent, Extremist Online Content 2019-09-12T03:08:00.000+03:00\n",
      "Google Alert - justin bieber 2019-09-12T03:49:00.000+03:00\n",
      "Chrome 77 makes it easy to send tabs from one device to another 2019-09-11T20:52:00.000+03:00\n"
     ]
    }
   ],
   "source": [
    "for feed in feeds_read_from_file[:100]:\n",
    "    print(feed['title'], feed['published'])"
   ]
  },
  {
   "cell_type": "code",
   "execution_count": 35,
   "metadata": {},
   "outputs": [
    {
     "data": {
      "text/plain": [
       "\"eBay is offering the JBL Everest Elite 750NC Over Ear Noise Canceling Bluetooth Headphones (Blue or Gray; Refurbished) for the best deal. Next best price on Google is $198.99 Shipped Enter comment about this deal... 2000 characters remaining Mobile Submit Deals Have a good deal or coupon? Want to share with our members? Please post it on our forums If it's a hot deal, we will post it on the front page with your name on it! Follow Us Hot Deals Only (4.5+ stars) New Coupons\""
      ]
     },
     "execution_count": 35,
     "metadata": {},
     "output_type": "execute_result"
    }
   ],
   "source": [
    "import random\n",
    "int= random.randint(1,300)\n",
    "feeds_read_from_file[int]['text']"
   ]
  }
 ],
 "metadata": {
  "kernelspec": {
   "display_name": "Python 3",
   "language": "python",
   "name": "python3"
  },
  "language_info": {
   "codemirror_mode": {
    "name": "ipython",
    "version": 3
   },
   "file_extension": ".py",
   "mimetype": "text/x-python",
   "name": "python",
   "nbconvert_exporter": "python",
   "pygments_lexer": "ipython3",
   "version": "3.7.0"
  }
 },
 "nbformat": 4,
 "nbformat_minor": 2
}
